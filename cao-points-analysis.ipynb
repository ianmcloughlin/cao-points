{
 "cells": [
  {
   "cell_type": "markdown",
   "id": "356d5158-04bc-4949-80cb-67442f420cec",
   "metadata": {},
   "source": [
    "# CAO Points Analysis\n",
    "\n",
    "***"
   ]
  },
  {
   "cell_type": "code",
   "execution_count": 1,
   "id": "bb230ec5-6d45-49c9-b07c-c544db01347b",
   "metadata": {},
   "outputs": [],
   "source": [
    "# Convenient HTTP requests.\n",
    "import requests as rq\n",
    "\n",
    "# Regular expressions.\n",
    "import re\n",
    "\n",
    "# Dates and times.\n",
    "import datetime as dt\n",
    "\n",
    "# Data frames.\n",
    "import pandas as pd\n",
    "\n",
    "# For downloading.\n",
    "import urllib.request as urlrq"
   ]
  },
  {
   "cell_type": "markdown",
   "id": "9d2d0611",
   "metadata": {},
   "source": [
    "<br>\n",
    "\n",
    "## 2021 Points\n",
    "\n",
    "http://www.cao.ie/index.php?page=points&p=2021\n",
    "\n",
    "***"
   ]
  },
  {
   "cell_type": "code",
   "execution_count": 2,
   "id": "31663e1f-51a4-448f-a35f-70bb0c4b0da1",
   "metadata": {},
   "outputs": [
    {
     "data": {
      "text/plain": [
       "<Response [200]>"
      ]
     },
     "execution_count": 2,
     "metadata": {},
     "output_type": "execute_result"
    }
   ],
   "source": [
    "# Fetch the CAO points URL.\n",
    "resp = rq.get('http://www2.cao.ie/points/l8.php')\n",
    "\n",
    "# Have a quick peek. 200 means OK.\n",
    "resp"
   ]
  },
  {
   "cell_type": "markdown",
   "id": "3c2f1e3f",
   "metadata": {},
   "source": [
    "<br>\n",
    "\n",
    "## Save original data set\n",
    "\n",
    "***"
   ]
  },
  {
   "cell_type": "code",
   "execution_count": 3,
   "id": "22098750",
   "metadata": {},
   "outputs": [],
   "source": [
    "# Get the current date and time.\n",
    "now = dt.datetime.now()\n",
    "\n",
    "# Format as a string.\n",
    "nowstr = now.strftime('%Y%m%d_%H%M%S')"
   ]
  },
  {
   "cell_type": "code",
   "execution_count": 4,
   "id": "1f5365d4",
   "metadata": {},
   "outputs": [],
   "source": [
    "# Create a file path for the original data.\n",
    "path = 'data/cao2021_' + nowstr + '.html'"
   ]
  },
  {
   "cell_type": "markdown",
   "id": "42d3421a",
   "metadata": {},
   "source": [
    "<br>\n",
    "\n",
    "## Error on server\n",
    "\n",
    "***\n",
    "\n",
    "Technically, the server says we should decode as per:\n",
    "    \n",
    "```\n",
    "Content-Type: text/html; charset=iso-8859-1\n",
    "```\n",
    "\n",
    "However, one line uses \\x96 which isn't defined in iso-8859-1.\n",
    "\n",
    "Therefore we use the similar decoding standard cp1252, which is very similar but includes #x96."
   ]
  },
  {
   "cell_type": "code",
   "execution_count": 5,
   "id": "406beeb5",
   "metadata": {},
   "outputs": [],
   "source": [
    "# The server uses the wrong encoding, fix it.\n",
    "original_encoding = resp.encoding\n",
    "\n",
    "# Change to cp1252.\n",
    "resp.encoding = 'cp1252'"
   ]
  },
  {
   "cell_type": "code",
   "execution_count": 6,
   "id": "ac9566db",
   "metadata": {},
   "outputs": [],
   "source": [
    "# Save the original html file.\n",
    "with open(path, 'w') as f:\n",
    "    f.write(resp.text)"
   ]
  },
  {
   "cell_type": "markdown",
   "id": "89f04a00",
   "metadata": {},
   "source": [
    "<br>\n",
    "\n",
    "## Use regular expressions to select lines we want\n",
    "\n",
    "***"
   ]
  },
  {
   "cell_type": "code",
   "execution_count": 7,
   "id": "8e3c0ce2-0403-4cf6-b2e1-c1cc90d453da",
   "metadata": {},
   "outputs": [],
   "source": [
    "# Compile the regular expression for matching lines.\n",
    "re_course = re.compile(r'([A-Z]{2}[0-9]{3})  (.*)([0-9]{3})(\\*?) *')"
   ]
  },
  {
   "cell_type": "markdown",
   "id": "087e05f8-2c15-48ca-91fd-ea939d28f697",
   "metadata": {},
   "source": [
    "<br>\n",
    "\n",
    "#### Loop through the lines of the response\n",
    "\n",
    "***"
   ]
  },
  {
   "cell_type": "code",
   "execution_count": 8,
   "id": "4c40fecf-7f50-4591-9e0b-9298a645f766",
   "metadata": {
    "tags": []
   },
   "outputs": [
    {
     "name": "stdout",
     "output_type": "stream",
     "text": [
      "Total number of lines is 922.\n"
     ]
    }
   ],
   "source": [
    "# The file path for the csv file.\n",
    "path = 'data/cao2021_csv_' + nowstr + '.csv'\n",
    "\n",
    "# Keep track of how many courses we process.\n",
    "no_lines = 0\n",
    "\n",
    "# Open the csv file for writing.\n",
    "with open(path, 'w') as f:\n",
    "    # Loop through lines of the response.\n",
    "    for line in resp.iter_lines():\n",
    "        # Decode the line, using the wrong encoding!\n",
    "        dline = line.decode('cp1252')\n",
    "        # Match only the lines representing courses.\n",
    "        if re_course.fullmatch(dline):\n",
    "            # Add one to the lines counter.\n",
    "            no_lines = no_lines + 1\n",
    "            # Split the line on two or more spaces.\n",
    "            linesplit = re.split('  +', dline)\n",
    "            # Rejoin the substrings with commas in between.\n",
    "            f.write(','.join(linesplit) + '\\n')\n",
    "\n",
    "# Print the total number of processed lines.\n",
    "print(f\"Total number of lines is {no_lines}.\")"
   ]
  },
  {
   "cell_type": "markdown",
   "id": "2d92e52a",
   "metadata": {},
   "source": [
    "<br>\n",
    "\n",
    "## 2020 Points\n",
    "\n",
    "https://www.cao.ie/index.php?page=points&p=2020\n",
    "\n",
    "***"
   ]
  },
  {
   "cell_type": "markdown",
   "id": "8d0795ba",
   "metadata": {},
   "source": [
    "<br>\n",
    "\n",
    "#### Save Original File\n",
    "\n",
    "***"
   ]
  },
  {
   "cell_type": "code",
   "execution_count": 9,
   "id": "b524f1e4",
   "metadata": {},
   "outputs": [],
   "source": [
    "# Create a file path for the original data.\n",
    "path = 'data/cao2020_' + nowstr + '.xlsx'"
   ]
  },
  {
   "cell_type": "code",
   "execution_count": 10,
   "id": "1e387473",
   "metadata": {},
   "outputs": [
    {
     "data": {
      "text/plain": [
       "('data/cao2020_20211029_121303.xlsx',\n",
       " <http.client.HTTPMessage at 0x23297829ca0>)"
      ]
     },
     "execution_count": 10,
     "metadata": {},
     "output_type": "execute_result"
    }
   ],
   "source": [
    "urlrq.urlretrieve('http://www2.cao.ie/points/CAOPointsCharts2020.xlsx', path)"
   ]
  },
  {
   "cell_type": "markdown",
   "id": "3dd1f8eb",
   "metadata": {},
   "source": [
    "<br>\n",
    "\n",
    "#### Load Spreadsheet using pandas\n",
    "\n",
    "***"
   ]
  },
  {
   "cell_type": "code",
   "execution_count": 11,
   "id": "704fc89f",
   "metadata": {},
   "outputs": [],
   "source": [
    "# Download and parse the excel spreadsheet.\n",
    "df = pd.read_excel('http://www2.cao.ie/points/CAOPointsCharts2020.xlsx', skiprows=10)"
   ]
  },
  {
   "cell_type": "code",
   "execution_count": null,
   "id": "a9264a2f",
   "metadata": {
    "scrolled": true
   },
   "outputs": [],
   "source": [
    "df"
   ]
  },
  {
   "cell_type": "code",
   "execution_count": 13,
   "id": "ecbd6d20",
   "metadata": {},
   "outputs": [
    {
     "data": {
      "text/plain": [
       "CATEGORY (i.e.ISCED description)          Engineering and engineering trades\n",
       "COURSE TITLE                        Road Transport Technology and Management\n",
       "COURSE CODE2                                                           LC286\n",
       "R1 POINTS                                                                264\n",
       "R1 Random *                                                              NaN\n",
       "R2 POINTS                                                                NaN\n",
       "R2 Random*                                                               NaN\n",
       "EOS                                                                      264\n",
       "EOS Random *                                                             NaN\n",
       "EOS Mid-point                                                            360\n",
       "LEVEL                                                                      7\n",
       "HEI                                         Limerick Institute of Technology\n",
       "Test/Interview #                                                         NaN\n",
       "avp                                                                      NaN\n",
       "v                                                                        NaN\n",
       "Column1                                                                  NaN\n",
       "Column2                                                                  NaN\n",
       "Column3                                                                  NaN\n",
       "Column4                                                                  NaN\n",
       "Column5                                                                  NaN\n",
       "Column6                                                                  NaN\n",
       "Column7                                                                  NaN\n",
       "Column8                                                                  NaN\n",
       "Name: 753, dtype: object"
      ]
     },
     "execution_count": 13,
     "metadata": {},
     "output_type": "execute_result"
    }
   ],
   "source": [
    "# Spot check a random row.\n",
    "df.iloc[753]"
   ]
  },
  {
   "cell_type": "code",
   "execution_count": 14,
   "id": "5e73186f",
   "metadata": {},
   "outputs": [
    {
     "data": {
      "text/plain": [
       "CATEGORY (i.e.ISCED description)          Engineering and engineering trades\n",
       "COURSE TITLE                        Mechanical and Manufacturing Engineering\n",
       "COURSE CODE2                                                           WD230\n",
       "R1 POINTS                                                                253\n",
       "R1 Random *                                                              NaN\n",
       "R2 POINTS                                                                NaN\n",
       "R2 Random*                                                               NaN\n",
       "EOS                                                                      253\n",
       "EOS Random *                                                             NaN\n",
       "EOS Mid-point                                                            369\n",
       "LEVEL                                                                      8\n",
       "HEI                                        Waterford Institute of Technology\n",
       "Test/Interview #                                                         NaN\n",
       "avp                                                                      NaN\n",
       "v                                                                        NaN\n",
       "Column1                                                                  NaN\n",
       "Column2                                                                  NaN\n",
       "Column3                                                                  NaN\n",
       "Column4                                                                  NaN\n",
       "Column5                                                                  NaN\n",
       "Column6                                                                  NaN\n",
       "Column7                                                                  NaN\n",
       "Column8                                                                  NaN\n",
       "Name: 1463, dtype: object"
      ]
     },
     "execution_count": 14,
     "metadata": {},
     "output_type": "execute_result"
    }
   ],
   "source": [
    "# Spot check the last row.\n",
    "df.iloc[-1]"
   ]
  },
  {
   "cell_type": "code",
   "execution_count": 15,
   "id": "f5e1793f",
   "metadata": {},
   "outputs": [],
   "source": [
    "# Create a file path for the pandas data.\n",
    "path = 'data/cao2020_' + nowstr + '.csv'"
   ]
  },
  {
   "cell_type": "code",
   "execution_count": 16,
   "id": "4a9d7d7e",
   "metadata": {},
   "outputs": [],
   "source": [
    "# Save pandas data frame to disk.\n",
    "df.to_csv(path)"
   ]
  },
  {
   "cell_type": "markdown",
   "id": "b847866c-4533-4a20-8b70-a13f4835e9d8",
   "metadata": {},
   "source": [
    "<br>\n",
    "\n",
    "## 2019 Points\n",
    "\n",
    "https://www.cao.ie/index.php?page=points&p=2019\n",
    "\n",
    "***"
   ]
  },
  {
   "cell_type": "markdown",
   "id": "6c002ff1-f4de-4036-b1eb-324f6ed7975a",
   "metadata": {},
   "source": [
    "##### Steps to reproduce\n",
    "\n",
    "**NB: for the video I truncated the CSV file to save time.**\n",
    "\n",
    "1. Download original pdf file.\n",
    "2. Open original pdf file in Microsoft Word.\n",
    "3. Save Microsoft Word's converted PDF in docx format.\n",
    "4. Re-save Word document for editing.\n",
    "5. Delete headers and footers.\n",
    "6. Delete preamble on page 1.\n",
    "7. Select all and copy.\n",
    "8. Paste into Notepad++.\n",
    "9. Remove HEI name headings and paste onto each course line.\n",
    "10. Delete blank lines.\n",
    "11. Replaced double tab charaters with a single. (3 occurences).\n",
    "12. Deleted tab charater at end of line 308.\n",
    "12. Change backticks to apostrophes."
   ]
  },
  {
   "cell_type": "code",
   "execution_count": 22,
   "id": "26b62926-cf7d-4f36-ba91-d4fa7b4ff746",
   "metadata": {},
   "outputs": [],
   "source": [
    "df2019 = pd.read_csv('data/cao2019_20211029_113930_edited.csv', sep='\\t')"
   ]
  },
  {
   "cell_type": "code",
   "execution_count": 23,
   "id": "a709253b-fe1e-42a2-971e-81ca33acd180",
   "metadata": {},
   "outputs": [
    {
     "data": {
      "text/html": [
       "<div>\n",
       "<style scoped>\n",
       "    .dataframe tbody tr th:only-of-type {\n",
       "        vertical-align: middle;\n",
       "    }\n",
       "\n",
       "    .dataframe tbody tr th {\n",
       "        vertical-align: top;\n",
       "    }\n",
       "\n",
       "    .dataframe thead th {\n",
       "        text-align: right;\n",
       "    }\n",
       "</style>\n",
       "<table border=\"1\" class=\"dataframe\">\n",
       "  <thead>\n",
       "    <tr style=\"text-align: right;\">\n",
       "      <th></th>\n",
       "      <th>HEI</th>\n",
       "      <th>Course Code</th>\n",
       "      <th>INSTITUTION and COURSE</th>\n",
       "      <th>EOS</th>\n",
       "      <th>Mid</th>\n",
       "    </tr>\n",
       "  </thead>\n",
       "  <tbody>\n",
       "    <tr>\n",
       "      <th>0</th>\n",
       "      <td>Athlone Institute of Technology</td>\n",
       "      <td>AL801</td>\n",
       "      <td>Software Design with Virtual Reality and Gaming</td>\n",
       "      <td>304</td>\n",
       "      <td>328.0</td>\n",
       "    </tr>\n",
       "    <tr>\n",
       "      <th>1</th>\n",
       "      <td>Athlone Institute of Technology</td>\n",
       "      <td>AL802</td>\n",
       "      <td>Software Design with Cloud Computing</td>\n",
       "      <td>301</td>\n",
       "      <td>306.0</td>\n",
       "    </tr>\n",
       "    <tr>\n",
       "      <th>2</th>\n",
       "      <td>Athlone Institute of Technology</td>\n",
       "      <td>AL803</td>\n",
       "      <td>Software Design with Mobile Apps and Connected...</td>\n",
       "      <td>309</td>\n",
       "      <td>337.0</td>\n",
       "    </tr>\n",
       "    <tr>\n",
       "      <th>3</th>\n",
       "      <td>Athlone Institute of Technology</td>\n",
       "      <td>AL805</td>\n",
       "      <td>Network Management and Cloud Infrastructure</td>\n",
       "      <td>329</td>\n",
       "      <td>442.0</td>\n",
       "    </tr>\n",
       "    <tr>\n",
       "      <th>4</th>\n",
       "      <td>Athlone Institute of Technology</td>\n",
       "      <td>AL810</td>\n",
       "      <td>Quantity Surveying</td>\n",
       "      <td>307</td>\n",
       "      <td>349.0</td>\n",
       "    </tr>\n",
       "    <tr>\n",
       "      <th>...</th>\n",
       "      <td>...</td>\n",
       "      <td>...</td>\n",
       "      <td>...</td>\n",
       "      <td>...</td>\n",
       "      <td>...</td>\n",
       "    </tr>\n",
       "    <tr>\n",
       "      <th>385</th>\n",
       "      <td>Technological University Dublin Blanchardstown...</td>\n",
       "      <td>BN118</td>\n",
       "      <td>Early Childhood Care and Education</td>\n",
       "      <td>290</td>\n",
       "      <td>320.0</td>\n",
       "    </tr>\n",
       "    <tr>\n",
       "      <th>386</th>\n",
       "      <td>Technological University Dublin Blanchardstown...</td>\n",
       "      <td>BN119</td>\n",
       "      <td>Digital Marketing</td>\n",
       "      <td>270</td>\n",
       "      <td>308.0</td>\n",
       "    </tr>\n",
       "    <tr>\n",
       "      <th>387</th>\n",
       "      <td>Technological University Dublin Blanchardstown...</td>\n",
       "      <td>BN120</td>\n",
       "      <td>Digital Forensics and Cyber Security</td>\n",
       "      <td>281</td>\n",
       "      <td>326.0</td>\n",
       "    </tr>\n",
       "    <tr>\n",
       "      <th>388</th>\n",
       "      <td>Technological University Dublin Blanchardstown...</td>\n",
       "      <td>BN121</td>\n",
       "      <td>Mechatronic Engineering</td>\n",
       "      <td>276</td>\n",
       "      <td>340.0</td>\n",
       "    </tr>\n",
       "    <tr>\n",
       "      <th>389</th>\n",
       "      <td>Technological University Dublin Blanchardstown...</td>\n",
       "      <td>BN123</td>\n",
       "      <td>Design,Technology and Innovation</td>\n",
       "      <td>297</td>\n",
       "      <td>318.0</td>\n",
       "    </tr>\n",
       "  </tbody>\n",
       "</table>\n",
       "<p>390 rows × 5 columns</p>\n",
       "</div>"
      ],
      "text/plain": [
       "                                                   HEI Course Code  \\\n",
       "0                      Athlone Institute of Technology       AL801   \n",
       "1                      Athlone Institute of Technology       AL802   \n",
       "2                      Athlone Institute of Technology       AL803   \n",
       "3                      Athlone Institute of Technology       AL805   \n",
       "4                      Athlone Institute of Technology       AL810   \n",
       "..                                                 ...         ...   \n",
       "385  Technological University Dublin Blanchardstown...       BN118   \n",
       "386  Technological University Dublin Blanchardstown...       BN119   \n",
       "387  Technological University Dublin Blanchardstown...       BN120   \n",
       "388  Technological University Dublin Blanchardstown...       BN121   \n",
       "389  Technological University Dublin Blanchardstown...       BN123   \n",
       "\n",
       "                                INSTITUTION and COURSE  EOS    Mid  \n",
       "0      Software Design with Virtual Reality and Gaming  304  328.0  \n",
       "1                 Software Design with Cloud Computing  301  306.0  \n",
       "2    Software Design with Mobile Apps and Connected...  309  337.0  \n",
       "3          Network Management and Cloud Infrastructure  329  442.0  \n",
       "4                                   Quantity Surveying  307  349.0  \n",
       "..                                                 ...  ...    ...  \n",
       "385                 Early Childhood Care and Education  290  320.0  \n",
       "386                                  Digital Marketing  270  308.0  \n",
       "387               Digital Forensics and Cyber Security  281  326.0  \n",
       "388                            Mechatronic Engineering  276  340.0  \n",
       "389                   Design,Technology and Innovation  297  318.0  \n",
       "\n",
       "[390 rows x 5 columns]"
      ]
     },
     "execution_count": 23,
     "metadata": {},
     "output_type": "execute_result"
    }
   ],
   "source": [
    "df2019"
   ]
  },
  {
   "cell_type": "markdown",
   "id": "06fd0e6f-d1ed-43c6-82a0-70db2207b7f6",
   "metadata": {},
   "source": [
    "***\n",
    "\n",
    "## End"
   ]
  }
 ],
 "metadata": {
  "kernelspec": {
   "display_name": "Python 3 (ipykernel)",
   "language": "python",
   "name": "python3"
  },
  "language_info": {
   "codemirror_mode": {
    "name": "ipython",
    "version": 3
   },
   "file_extension": ".py",
   "mimetype": "text/x-python",
   "name": "python",
   "nbconvert_exporter": "python",
   "pygments_lexer": "ipython3",
   "version": "3.8.12"
  }
 },
 "nbformat": 4,
 "nbformat_minor": 5
}
